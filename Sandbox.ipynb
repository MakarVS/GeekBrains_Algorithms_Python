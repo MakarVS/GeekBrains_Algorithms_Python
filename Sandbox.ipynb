{
 "cells": [
  {
   "cell_type": "code",
   "execution_count": 1,
   "metadata": {},
   "outputs": [],
   "source": [
    "import inspect\n",
    "import sys"
   ]
  },
  {
   "cell_type": "code",
   "execution_count": 201,
   "metadata": {},
   "outputs": [],
   "source": [
    "def show_all_size(vars_):\n",
    "    def show_size_object(x, level=0, sum_=0):\n",
    "        sum_ += sys.getsizeof(x)\n",
    "        if hasattr(x, '__iter__'):\n",
    "            if hasattr(x, 'items'):\n",
    "                for xx in x.items():\n",
    "                    sum_ = show_size_object(xx, level+1, sum_)\n",
    "            elif not isinstance(x, str):\n",
    "                for xx in x:\n",
    "                    sum_ = show_size_object(xx, level+1, sum_)\n",
    "        return sum_\n",
    "    \n",
    "    for name, val in vars_.items():\n",
    "        if name != 'size_of':\n",
    "            print(f'Суммарный размер {name} - {show_size_object(val)} байт')\n",
    "    "
   ]
  },
  {
   "cell_type": "code",
   "execution_count": 202,
   "metadata": {},
   "outputs": [],
   "source": [
    "def show_size_object(x, level=0, sum_=0):\n",
    "    sum_ += sys.getsizeof(x)\n",
    "    if hasattr(x, '__iter__'):\n",
    "        if hasattr(x, 'items'):\n",
    "            for xx in x.items():\n",
    "                sum_ = show_size_object(xx, level+1, sum_)\n",
    "        elif not isinstance(x, str):\n",
    "            for xx in x:\n",
    "                sum_ = show_size_object(xx, level+1, sum_)\n",
    "    return sum_"
   ]
  },
  {
   "cell_type": "code",
   "execution_count": 203,
   "metadata": {},
   "outputs": [],
   "source": [
    "def func(size_of=None):\n",
    "    a = [1, 2]\n",
    "    b = 30\n",
    "    \n",
    "#     vars_ = [var for var in vars().keys() if var != 'size_of']\n",
    "    if size_of:\n",
    "        size_of(locals())\n",
    "#     [var for var in vars().keys() if var != 'size_of']\n",
    "#     print(locals()['a'])\n",
    "#     print([locals()[var] for var in vars().keys() if var != 'size_of'])"
   ]
  },
  {
   "cell_type": "code",
   "execution_count": 204,
   "metadata": {},
   "outputs": [
    {
     "name": "stdout",
     "output_type": "stream",
     "text": [
      "Суммарный размер a - 136 байт\n",
      "Суммарный размер b - 28 байт\n"
     ]
    }
   ],
   "source": [
    "func(show_all_size)"
   ]
  },
  {
   "cell_type": "code",
   "execution_count": 105,
   "metadata": {},
   "outputs": [],
   "source": [
    "# def show_size_print(x, level=0):\n",
    "#     print(f'{x} - {sys.getsizeof(x)}')\n",
    "#     if hasattr(x, '__iter__'):\n",
    "#         if hasattr(x, 'items'):\n",
    "#             for xx in x.items():\n",
    "#                 show_size_print(xx, level+1)\n",
    "#         elif not isinstance(x, str):\n",
    "#             for xx in x:\n",
    "#                 show_size_print(xx, level+1)"
   ]
  },
  {
   "cell_type": "code",
   "execution_count": 109,
   "metadata": {},
   "outputs": [],
   "source": [
    "# a = [1, 2, 3, 4]\n",
    "# a = {1: 'a', 2: 'b'}"
   ]
  },
  {
   "cell_type": "code",
   "execution_count": null,
   "metadata": {},
   "outputs": [],
   "source": []
  },
  {
   "cell_type": "code",
   "execution_count": null,
   "metadata": {},
   "outputs": [],
   "source": []
  },
  {
   "cell_type": "code",
   "execution_count": 2,
   "metadata": {},
   "outputs": [],
   "source": [
    "def size_of(vars_):\n",
    "    for var in vars_:\n",
    "        print(f'Объект {var} класса {var.__class__} занимает в памяти {sys.getsizeof(var)}')"
   ]
  },
  {
   "cell_type": "code",
   "execution_count": 53,
   "metadata": {},
   "outputs": [],
   "source": [
    "def func(size_of=None):\n",
    "    a = 'qweqrqwreqweqweqweqwe'\n",
    "    b = 5 + 7\n",
    "#     c = a + b\n",
    "    vars_ = [var for var in vars().keys() if var != 'size_of']\n",
    "    exec(f'print(sys.getsizeof({vars_[0]}))')\n",
    "    return a"
   ]
  },
  {
   "cell_type": "code",
   "execution_count": 54,
   "metadata": {},
   "outputs": [
    {
     "name": "stdout",
     "output_type": "stream",
     "text": [
      "70\n"
     ]
    },
    {
     "data": {
      "text/plain": [
       "'qweqrqwreqweqweqweqwe'"
      ]
     },
     "execution_count": 54,
     "metadata": {},
     "output_type": "execute_result"
    }
   ],
   "source": [
    "func()"
   ]
  },
  {
   "cell_type": "code",
   "execution_count": null,
   "metadata": {},
   "outputs": [],
   "source": [
    "func.__sizeof__()"
   ]
  },
  {
   "cell_type": "code",
   "execution_count": null,
   "metadata": {},
   "outputs": [],
   "source": [
    "def func_2(x=3):\n",
    "    c = [i for i in range(100)]\n",
    "    return c"
   ]
  },
  {
   "cell_type": "code",
   "execution_count": null,
   "metadata": {},
   "outputs": [],
   "source": [
    "func_2.__sizeof__()"
   ]
  },
  {
   "cell_type": "code",
   "execution_count": null,
   "metadata": {},
   "outputs": [],
   "source": [
    "a = func.__code__\n",
    "b = a.co_code\n",
    "b"
   ]
  },
  {
   "cell_type": "code",
   "execution_count": null,
   "metadata": {},
   "outputs": [],
   "source": [
    "b.decode('utf-8')"
   ]
  },
  {
   "cell_type": "code",
   "execution_count": null,
   "metadata": {},
   "outputs": [],
   "source": [
    "a.co_names"
   ]
  },
  {
   "cell_type": "code",
   "execution_count": null,
   "metadata": {},
   "outputs": [],
   "source": [
    "func.__sizeof__()"
   ]
  },
  {
   "cell_type": "code",
   "execution_count": null,
   "metadata": {},
   "outputs": [],
   "source": [
    "import sys"
   ]
  },
  {
   "cell_type": "code",
   "execution_count": null,
   "metadata": {},
   "outputs": [],
   "source": [
    "a = 2 + 2\n",
    "b = 5 + 7\n",
    "\n",
    "print(sys.getsizeof(a))\n",
    "print(sys.getsizeof(b))"
   ]
  },
  {
   "cell_type": "code",
   "execution_count": null,
   "metadata": {},
   "outputs": [],
   "source": [
    "func.__getattribute__"
   ]
  },
  {
   "cell_type": "code",
   "execution_count": null,
   "metadata": {},
   "outputs": [],
   "source": [
    "def show_callers_locals():\n",
    "    \"\"\"Print the local variables in the caller's frame.\"\"\"\n",
    "    import inspect\n",
    "    frame = inspect.currentframe()\n",
    "    try:\n",
    "        print(frame.f_back.f_locals)\n",
    "    finally:\n",
    "        del frame"
   ]
  },
  {
   "cell_type": "code",
   "execution_count": null,
   "metadata": {},
   "outputs": [],
   "source": [
    "inspect.getsourcelines(func_2)"
   ]
  },
  {
   "cell_type": "code",
   "execution_count": null,
   "metadata": {},
   "outputs": [],
   "source": [
    "inspect.getclosurevars(func_2)"
   ]
  },
  {
   "cell_type": "code",
   "execution_count": null,
   "metadata": {},
   "outputs": [],
   "source": []
  },
  {
   "cell_type": "code",
   "execution_count": null,
   "metadata": {},
   "outputs": [],
   "source": []
  },
  {
   "cell_type": "code",
   "execution_count": null,
   "metadata": {},
   "outputs": [],
   "source": []
  },
  {
   "cell_type": "code",
   "execution_count": 211,
   "metadata": {},
   "outputs": [],
   "source": [
    "d = {'a': 1, 'b':2}"
   ]
  },
  {
   "cell_type": "code",
   "execution_count": 212,
   "metadata": {},
   "outputs": [
    {
     "data": {
      "text/plain": [
       "1"
      ]
     },
     "execution_count": 212,
     "metadata": {},
     "output_type": "execute_result"
    }
   ],
   "source": [
    "d.pop('a')"
   ]
  },
  {
   "cell_type": "code",
   "execution_count": 213,
   "metadata": {},
   "outputs": [
    {
     "data": {
      "text/plain": [
       "{'b': 2}"
      ]
     },
     "execution_count": 213,
     "metadata": {},
     "output_type": "execute_result"
    }
   ],
   "source": [
    "d"
   ]
  },
  {
   "cell_type": "code",
   "execution_count": null,
   "metadata": {},
   "outputs": [],
   "source": []
  }
 ],
 "metadata": {
  "kernelspec": {
   "display_name": "Python 3",
   "language": "python",
   "name": "python3"
  },
  "language_info": {
   "codemirror_mode": {
    "name": "ipython",
    "version": 3
   },
   "file_extension": ".py",
   "mimetype": "text/x-python",
   "name": "python",
   "nbconvert_exporter": "python",
   "pygments_lexer": "ipython3",
   "version": "3.7.1"
  }
 },
 "nbformat": 4,
 "nbformat_minor": 2
}
